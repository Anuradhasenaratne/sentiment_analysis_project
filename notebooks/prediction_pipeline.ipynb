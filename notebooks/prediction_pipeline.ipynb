{
 "cells": [
  {
   "cell_type": "code",
   "execution_count": 32,
   "id": "c08d7f61-3664-493c-b61c-b41e48f37784",
   "metadata": {},
   "outputs": [],
   "source": [
    "import numpy as np\n",
    "import pandas as pd\n",
    "import re\n",
    "import string\n",
    "import pickle"
   ]
  },
  {
   "cell_type": "code",
   "execution_count": 33,
   "id": "d3b54379-ca69-4a69-8a7c-b3698f0fe424",
   "metadata": {},
   "outputs": [],
   "source": [
    "txt = 'great product. i like it'"
   ]
  },
  {
   "cell_type": "code",
   "execution_count": 34,
   "id": "932a14db-612a-47fb-9fdc-18120105d1bd",
   "metadata": {},
   "outputs": [],
   "source": [
    "from nltk.stem import PorterStemmer\n",
    "ps= PorterStemmer()"
   ]
  },
  {
   "cell_type": "code",
   "execution_count": 35,
   "id": "baec4f9d-4a47-4b51-810a-11eba094ba52",
   "metadata": {},
   "outputs": [],
   "source": [
    "def remove_punctuations(text):\n",
    "    for punctuation in string.punctuation:\n",
    "        text = text.replace(punctuation, '')  # Directly remove punctuation without adding space\n",
    "    return text"
   ]
  },
  {
   "cell_type": "code",
   "execution_count": 36,
   "id": "56a834e8-e611-45d9-8e8e-250714d976e2",
   "metadata": {},
   "outputs": [],
   "source": [
    "with open('../static/model/corpora/stopwords/english', 'r') as file:\n",
    " sw=file.read().splitlines()"
   ]
  },
  {
   "cell_type": "code",
   "execution_count": 37,
   "id": "86e94136-69b1-490e-a3f8-b2c1a513c0a0",
   "metadata": {},
   "outputs": [],
   "source": [
    "def preprocessing(text):\n",
    "    data =pd.DataFrame([text], columns=['tweet'])\n",
    "    data[\"tweet\"]= data[\"tweet\"].apply(lambda x: \" \".join(ps.stem(x)for x in x.split()))\n",
    "    data[\"tweet\"] = data[\"tweet\"].apply(lambda x: \" \".join(x.lower() for x in x.split()))\n",
    "    data[\"tweet\"] = data['tweet'].apply(lambda x: \" \".join(re.sub(r'https?:\\/\\/.*[\\r\\n]*', '', x, flags=re.MULTILINE) for x in x.split()))\n",
    "    data[\"tweet\"] = data[\"tweet\"].str.replace(r'\\d+', '', regex=True)\n",
    "    data[\"tweet\"] = data[\"tweet\"].apply(remove_punctuations)\n",
    "    data[\"tweet\"]= data[\"tweet\"].apply(lambda x: \" \".join(x for x in x.split() if x not in sw))\n",
    "    return data [\"tweet\"]"
   ]
  },
  {
   "cell_type": "code",
   "execution_count": 38,
   "id": "ac87b4c5-0cd4-47b4-b673-95faf7e90086",
   "metadata": {},
   "outputs": [],
   "source": [
    "preprocessing_txt = preprocessing(txt)"
   ]
  },
  {
   "cell_type": "code",
   "execution_count": 39,
   "id": "5f4e6875-e64f-4c50-8a05-15419ddf4813",
   "metadata": {},
   "outputs": [
    {
     "data": {
      "text/plain": [
       "0    great product like\n",
       "Name: tweet, dtype: object"
      ]
     },
     "execution_count": 39,
     "metadata": {},
     "output_type": "execute_result"
    }
   ],
   "source": [
    "preprocessing_txt"
   ]
  },
  {
   "cell_type": "code",
   "execution_count": 40,
   "id": "6a3b2552-57b4-430e-b333-e2c066c6273d",
   "metadata": {},
   "outputs": [],
   "source": [
    "vocab = pd.read_csv('../static/model/vocabulary.txt', header=None)\n",
    "tokens = vocab[0].tolist()"
   ]
  },
  {
   "cell_type": "code",
   "execution_count": 41,
   "id": "683d39c0-a871-4a10-ae3c-5e0f3a7c40f3",
   "metadata": {},
   "outputs": [],
   "source": [
    "def vectorizer(ds, vocabulary):\n",
    "    vectorized_1st = []\n",
    "\n",
    "    for sentence in ds:\n",
    "        sentence_1st = np.zeros(len(vocabulary))\n",
    "\n",
    "        for i in range(len(vocabulary)):\n",
    "            if vocabulary[i] in sentence.split():\n",
    "                 sentence_1st[i] = 1\n",
    "                \n",
    "        vectorized_1st.append(sentence_1st)\n",
    "        \n",
    "    vectorized_1st_new = np.asarray(vectorized_1st, dtype=np.float32)\n",
    "\n",
    "    return vectorized_1st_new"
   ]
  },
  {
   "cell_type": "code",
   "execution_count": 42,
   "id": "b5e61bf3-7eee-442d-9772-8f2e84127c69",
   "metadata": {},
   "outputs": [],
   "source": [
    "vectorized_txt = vectorizer(preprocessing_txt,tokens)"
   ]
  },
  {
   "cell_type": "code",
   "execution_count": 43,
   "id": "7d0a4d98-7b74-4188-be60-68d7466e4ec4",
   "metadata": {},
   "outputs": [
    {
     "data": {
      "text/plain": [
       "array([[0., 0., 0., ..., 0., 0., 0.]], dtype=float32)"
      ]
     },
     "execution_count": 43,
     "metadata": {},
     "output_type": "execute_result"
    }
   ],
   "source": [
    "vectorized_txt"
   ]
  },
  {
   "cell_type": "code",
   "execution_count": 44,
   "id": "5c5dc139-4b25-43c2-8cb4-79c0d0f7ca2f",
   "metadata": {},
   "outputs": [],
   "source": [
    "with open('../static/model.pickle', 'rb')as f:\n",
    "    model = pickle.load(f)"
   ]
  },
  {
   "cell_type": "code",
   "execution_count": 45,
   "id": "d028a724-b402-46a9-ad25-a048fc1e34a0",
   "metadata": {},
   "outputs": [
    {
     "data": {
      "text/plain": [
       "array([0])"
      ]
     },
     "execution_count": 45,
     "metadata": {},
     "output_type": "execute_result"
    }
   ],
   "source": [
    "model.predict(vectorized_txt)"
   ]
  },
  {
   "cell_type": "code",
   "execution_count": null,
   "id": "eb2fc1fa-b1af-4005-b599-732ef63664ad",
   "metadata": {},
   "outputs": [],
   "source": []
  }
 ],
 "metadata": {
  "kernelspec": {
   "display_name": "Python 3 (ipykernel)",
   "language": "python",
   "name": "python3"
  },
  "language_info": {
   "codemirror_mode": {
    "name": "ipython",
    "version": 3
   },
   "file_extension": ".py",
   "mimetype": "text/x-python",
   "name": "python",
   "nbconvert_exporter": "python",
   "pygments_lexer": "ipython3",
   "version": "3.12.5"
  }
 },
 "nbformat": 4,
 "nbformat_minor": 5
}
